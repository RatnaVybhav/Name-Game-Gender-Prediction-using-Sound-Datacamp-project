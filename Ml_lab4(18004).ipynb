{
  "nbformat": 4,
  "nbformat_minor": 0,
  "metadata": {
    "colab": {
      "name": "Ml_lab4(18004).ipynb",
      "provenance": [],
      "authorship_tag": "ABX9TyNYf52eq2sVcp4DqFfhM1hT",
      "include_colab_link": true
    },
    "kernelspec": {
      "name": "python3",
      "display_name": "Python 3"
    },
    "language_info": {
      "name": "python"
    }
  },
  "cells": [
    {
      "cell_type": "markdown",
      "metadata": {
        "id": "view-in-github",
        "colab_type": "text"
      },
      "source": [
        "<a href=\"https://colab.research.google.com/github/RatnaVybhav/Name-Game-Gender-Prediction-using-Sound-Datacamp-project/blob/master/Ml_lab4(18004).ipynb\" target=\"_parent\"><img src=\"https://colab.research.google.com/assets/colab-badge.svg\" alt=\"Open In Colab\"/></a>"
      ]
    },
    {
      "cell_type": "markdown",
      "metadata": {
        "id": "2ec48_dgbU2s"
      },
      "source": [
        "# A.Ratna Vybhav (18004) \n",
        "Link : "
      ]
    },
    {
      "cell_type": "code",
      "metadata": {
        "id": "Z9eTPN_javSz"
      },
      "source": [
        ""
      ],
      "execution_count": null,
      "outputs": []
    }
  ]
}